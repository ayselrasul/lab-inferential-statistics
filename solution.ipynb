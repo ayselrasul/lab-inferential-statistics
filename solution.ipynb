{
 "cells": [
  {
   "cell_type": "markdown",
   "id": "b9726941",
   "metadata": {},
   "source": [
    "# Lab | Inferential statistics"
   ]
  },
  {
   "cell_type": "markdown",
   "id": "e8dceaa8",
   "metadata": {},
   "source": [
    "## Instructions"
   ]
  },
  {
   "cell_type": "markdown",
   "id": "39b7fe59",
   "metadata": {},
   "source": [
    "1.It is assumed that the mean systolic blood pressure is μ = 120 mm Hg. In the Honolulu Heart Study, a sample of n = 100 people had an average systolic blood pressure of 130.1 mm Hg with a standard deviation of 21.21 mm Hg. Is the group significantly different (with respect to systolic blood pressure!) from the regular population?\n",
    "\n",
    "- Set up the hypothesis test.\n",
    "- Write down all the steps followed for setting up the test.\n",
    "- Calculate the test statistic by hand and also code it in Python. It should be 4.76190. We will take a look at how to make decisions based on this calculated value"
   ]
  },
  {
   "cell_type": "markdown",
   "id": "a343807f",
   "metadata": {},
   "source": [
    "## Approach"
   ]
  },
  {
   "attachments": {},
   "cell_type": "markdown",
   "id": "f9e94c0f",
   "metadata": {},
   "source": [
    "We want to test if our the sample mean is not equal to the population mean = 130.1. We also know that our sample has a size of 100 individuals\n",
    "<div>\n",
    "    <img src=\"download.png\" width=\"300\"/>\n",
    "</div>"
   ]
  },
  {
   "cell_type": "code",
   "execution_count": 3,
   "id": "eb71703c",
   "metadata": {},
   "outputs": [],
   "source": [
    "# Import libraries\n",
    "from sklearn.feature_selection import VarianceThreshold\n",
    "import pandas as pd \n",
    "from sklearn.feature_selection import RFE\n",
    "from sklearn import linear_model\n",
    "import math"
   ]
  },
  {
   "cell_type": "code",
   "execution_count": 4,
   "id": "e0e2486a",
   "metadata": {},
   "outputs": [
    {
     "name": "stdout",
     "output_type": "stream",
     "text": [
      "Statistic is:  4.761904761904759\n"
     ]
    }
   ],
   "source": [
    "sample_mean = 130.1  # mean of sample\n",
    "pop_mean = 120  # the mean of the population\n",
    "sample_std = 21.21  # standard deviation of sample\n",
    "n = 100  #sample size\n",
    "statistic = (sample_mean - pop_mean)/(sample_std/math.sqrt(n)) # Z value\n",
    "print(\"Statistic is: \", statistic)"
   ]
  },
  {
   "cell_type": "code",
   "execution_count": null,
   "id": "5a2cf6dc",
   "metadata": {},
   "outputs": [],
   "source": []
  }
 ],
 "metadata": {
  "kernelspec": {
   "display_name": "Python 3",
   "language": "python",
   "name": "python3"
  },
  "language_info": {
   "codemirror_mode": {
    "name": "ipython",
    "version": 3
   },
   "file_extension": ".py",
   "mimetype": "text/x-python",
   "name": "python",
   "nbconvert_exporter": "python",
   "pygments_lexer": "ipython3",
   "version": "3.8.8"
  }
 },
 "nbformat": 4,
 "nbformat_minor": 5
}
